{
 "cells": [
  {
   "cell_type": "code",
   "execution_count": null,
   "metadata": {},
   "outputs": [
    {
     "ename": "",
     "evalue": "",
     "output_type": "error",
     "traceback": [
      "\u001b[1;31mRunning cells with 'Python 3.10.0 ('gp-conda')' requires ipykernel package.\n",
      "\u001b[1;31mRun the following command to install 'ipykernel' into the Python environment. \n",
      "\u001b[1;31mCommand: 'conda install -n gp-conda ipykernel --update-deps --force-reinstall'"
     ]
    }
   ],
   "source": [
    "from pycocotools.coco import COCO\n",
    "import requests\n",
    "\n",
    "# instantiate COCO specifying the annotations json path\n",
    "coco = COCO('...path_to_annotations/instances_train2014.json')\n",
    "# Specify a list of category names of interest\n",
    "catIds = coco.getCatIds(catNms=['person'])\n",
    "# Get the corresponding image ids and images using loadImgs\n",
    "imgIds = coco.getImgIds(catIds=catIds)\n",
    "images = coco.loadImgs(imgIds)"
   ]
  },
  {
   "cell_type": "code",
   "execution_count": null,
   "metadata": {},
   "outputs": [],
   "source": [
    "images.shape"
   ]
  },
  {
   "cell_type": "code",
   "execution_count": null,
   "metadata": {},
   "outputs": [],
   "source": [
    "# Save the images into a local folder\n",
    "for im in images:\n",
    "    img_data = requests.get(im['coco_url']).content\n",
    "    with open('...path_saved_ims/coco_person/' + im['file_name'], 'wb') as handler:\n",
    "        handler.write(img_data)"
   ]
  }
 ],
 "metadata": {
  "kernelspec": {
   "display_name": "Python 3.10.0 ('gp-conda')",
   "language": "python",
   "name": "python3"
  },
  "language_info": {
   "codemirror_mode": {
    "name": "ipython",
    "version": 3
   },
   "file_extension": ".py",
   "mimetype": "text/x-python",
   "name": "python",
   "nbconvert_exporter": "python",
   "pygments_lexer": "ipython3",
   "version": "3.10.0"
  },
  "orig_nbformat": 4,
  "vscode": {
   "interpreter": {
    "hash": "f7c882fbc3553f39bb907f5c147bd3fd718891d41a9311630b138c712ea8e1ce"
   }
  }
 },
 "nbformat": 4,
 "nbformat_minor": 2
}
